{
 "cells": [
  {
   "cell_type": "markdown",
   "id": "6041e913",
   "metadata": {},
   "source": [
    "# Analysis of software and data referencing in hep-lat, 2021\n",
    "\n",
    "## Setup\n",
    "\n",
    "### Imports"
   ]
  },
  {
   "cell_type": "code",
   "execution_count": null,
   "id": "cacb88bf",
   "metadata": {},
   "outputs": [],
   "source": [
    "from collections import Counter\n",
    "from os import environ\n",
    "import pathlib\n",
    "\n",
    "import numpy as np\n",
    "\n",
    "import matplotlib.pyplot as plt\n",
    "from matplotlib.ticker import PercentFormatter\n",
    "\n",
    "import pandas as pd\n",
    "import seaborn as sns"
   ]
  },
  {
   "cell_type": "markdown",
   "id": "f6aabf7a",
   "metadata": {},
   "source": [
    "### Import data"
   ]
  },
  {
   "cell_type": "code",
   "execution_count": null,
   "id": "6cc22880",
   "metadata": {},
   "outputs": [],
   "source": [
    "survey = pd.read_csv('survey_2021.csv', true_values=['Y'], false_values=['N'])"
   ]
  },
  {
   "cell_type": "markdown",
   "id": "32e758b3",
   "metadata": {},
   "source": [
    "### Add extra derived fields to make plotting easier"
   ]
  },
  {
   "cell_type": "code",
   "execution_count": null,
   "id": "47991cd8",
   "metadata": {},
   "outputs": [],
   "source": [
    "survey['Is crosslist'] = survey['Primary category'].where(survey['Primary category'] == 'hep-lat', 'Crosslist')\n",
    "\n",
    "def boolify_yn(survey, fieldname):\n",
    "    survey[f'{fieldname}?'] = survey[fieldname].str.startswith('Y')\n",
    "\n",
    "boolify_yn(survey, 'Generates field configurations')\n",
    "boolify_yn(survey, 'Performs measurements')\n",
    "boolify_yn(survey, 'Presents new numerical results')\n",
    "boolify_yn(survey, 'Uses existing configurations')\n",
    "boolify_yn(survey, 'Reanalyses other existing data')\n",
    "boolify_yn(survey, 'UK authors')\n",
    "boolify_yn(survey, 'Acknowledges an HPC centre')\n",
    "survey['Author Origin'] = survey['UK authors?'].map(lambda uk : 'UK author(s)' if uk else 'All non-UK')\n",
    "\n",
    "\n",
    "def boolify_softwareref(survey, fieldname):\n",
    "    survey[f'{fieldname}?'] = ~survey[fieldname].isin([np.nan, 'No'])\n",
    "\n",
    "boolify_softwareref(survey, 'Specifies software used for analysis')\n",
    "boolify_softwareref(survey, 'Specifies software used for configuration generation')\n",
    "boolify_softwareref(survey, 'Specifies software used for measurement')\n",
    "boolify_softwareref(survey, 'Configuration hosting infrastructure acknowledged')\n",
    "\n",
    "survey['Specifies any software?'] = (\n",
    "    survey['Specifies software used for analysis?']\n",
    "    | survey['Specifies software used for configuration generation?']\n",
    "    | survey['Specifies software used for measurement?']\n",
    ")\n",
    "\n",
    "survey['Data published'] = 'None'\n",
    "survey.loc[survey['Data available on request?'].str.startswith('Y'), 'Data published'] = 'Data available on request'\n",
    "survey.loc[survey['Publishes data'].str.startswith('Y'), 'Data published'] = 'Some or all data published'\n",
    "\n",
    "survey['Analysis published'] = 'No'\n",
    "survey.loc[survey['Publishes parts of analysis'].str.startswith('Y'), 'Analysis published'] = 'Partial'\n",
    "survey.loc[survey['Publishes full analysis'].str.startswith('Y'), 'Analysis published'] = 'Full'"
   ]
  },
  {
   "cell_type": "markdown",
   "id": "03ff6ad7",
   "metadata": {},
   "source": [
    "### Subset data"
   ]
  },
  {
   "cell_type": "code",
   "execution_count": null,
   "id": "80b1ad1c",
   "metadata": {},
   "outputs": [],
   "source": [
    "lattice_all = survey[survey['Primary category'] == 'hep-lat']\n",
    "numerical = survey[survey['Presents new numerical results?']]\n",
    "\n",
    "lattice_numerical = lattice_all[lattice_all['Presents new numerical results?']]\n",
    "lattice_papers = lattice_all[~lattice_all['Is proceedings']]\n",
    "lattice_numerical_papers = lattice_papers[lattice_papers['Presents new numerical results'].str.startswith('Y')]\n",
    "lattice_generators = lattice_all[lattice_all['Generates field configurations?']]\n",
    "lattice_measurers = lattice_all[lattice_all['Performs measurements?']]\n",
    "\n",
    "nonlattice_all = survey[survey['Primary category'] != 'hep-lat']\n",
    "nonlattice_numerical = nonlattice_all[nonlattice_all['Presents new numerical results?']]"
   ]
  },
  {
   "cell_type": "markdown",
   "id": "99a5fc33",
   "metadata": {},
   "source": [
    "### Utility functions"
   ]
  },
  {
   "cell_type": "code",
   "execution_count": null,
   "id": "158ae114",
   "metadata": {},
   "outputs": [],
   "source": [
    "def get_codes(series):\n",
    "    codes = []\n",
    "    modified_count = 0\n",
    "\n",
    "    for entry in series:\n",
    "        if isinstance(entry, str):\n",
    "            entry_codes = entry.split(', ')\n",
    "            for code in entry_codes:\n",
    "                if code.endswith(' (modified)'):\n",
    "                    codes.append(code[:-11])\n",
    "                    modified_count += 1\n",
    "                else:\n",
    "                    codes.append(code)\n",
    "                    \n",
    "    return codes, modified_count\n",
    "\n",
    "\n",
    "def tfplot(fieldname, annotate=True, offset=0):\n",
    "    g = sns.catplot(\n",
    "        x=fieldname,\n",
    "        kind='count',\n",
    "        data=lattice_numerical,\n",
    "    ).set_titles('{col_name}')\n",
    "\n",
    "    max_count = max(Counter(lattice_numerical[fieldname]).values())\n",
    "    count = len(lattice_numerical)\n",
    "\n",
    "    for ax in g.axes.flat:\n",
    "        ax.yaxis.set_major_formatter(PercentFormatter(count))\n",
    "        ax.yaxis.set_ticks(np.arange(0, ((max_count * 10) // count + 1) / 10 * count, count / 10))\n",
    "\n",
    "    if annotate:\n",
    "        annotate_axes(g.axes[0][-1], len(lattice_numerical), offset=offset)\n",
    "\n",
    "    return g\n",
    "\n",
    "\n",
    "def annotate_axes(axes, counts, offset=0):\n",
    "    if not isinstance(counts, list):\n",
    "        axes = [[axes]]\n",
    "        counts = [counts]\n",
    "\n",
    "    for ax, count in zip(axes[0], counts):\n",
    "        ax.annotate(f'Out of {count}', (1 - offset * 12 / font_size, 0.95 - offset * 12 / font_size), xycoords='axes fraction', ha='right')\n",
    "        \n",
    "\n",
    "def annotate_axes_uk(grid, df):\n",
    "    annotate_axes(grid.axes, [len(df.index)])\n",
    "\n",
    "\n",
    "def get_good_tick_separation(current_separation):\n",
    "    good_tick_separations = [1., 2., 5., 10., 20.]\n",
    "    for proposed_separation in good_tick_separations:\n",
    "        if current_separation <= proposed_separation:\n",
    "            return proposed_separation\n",
    "    else:\n",
    "        return proposed_separation\n",
    "\n",
    "\n",
    "def retick(ax):\n",
    "    initial_yticks = ax.get_yticks()\n",
    "    initial_ytick_separation = initial_yticks[1] - initial_yticks[0]\n",
    "    new_ytick_separation = get_good_tick_separation(initial_ytick_separation)\n",
    "\n",
    "    if initial_ytick_separation == new_ytick_separation:\n",
    "        # Ticks are already good\n",
    "        return\n",
    "\n",
    "    ax.yaxis.set_major_locator(plt.MultipleLocator(new_ytick_separation))"
   ]
  },
  {
   "cell_type": "markdown",
   "id": "1d972a23",
   "metadata": {},
   "source": [
    "## Plotting styles"
   ]
  },
  {
   "cell_type": "code",
   "execution_count": null,
   "id": "db125ab8",
   "metadata": {},
   "outputs": [],
   "source": [
    "if environ.get('PLOT_STYLE') == 'proceedings':\n",
    "    font_size = 20\n",
    "    plot_dir = pathlib.Path('proceedings_plots')\n",
    "    plot_ext = 'pdf'\n",
    "    plot_transparent = False\n",
    "    plt.rcParams['font.family'] = 'serif'\n",
    "    plt.rcParams['font.serif'] = ['Times', 'Times New Roman', 'FreeSerif']\n",
    "    plt.rcParams['text.latex.preamble'] = '\\\\usepackage{txfonts}'\n",
    "    plt.rcParams['text.usetex'] = True\n",
    "else:\n",
    "    font_size = 12\n",
    "    plt.style.use('dark_background')\n",
    "    plt.rcParams['font.family'] = 'Futura'\n",
    "    plt.rcParams['font.size'] = 14\n",
    "    plot_ext = 'svg'\n",
    "    plot_dir = pathlib.Path('plots')\n",
    "    plot_transparent = True\n",
    "plt.rcParams['font.size'] = font_size\n",
    "\n",
    "\n",
    "def savefig(filename):\n",
    "    plot_dir.mkdir(exist_ok=True)\n",
    "    plt.savefig(plot_dir / f'{filename}.{plot_ext}', transparent=plot_transparent)"
   ]
  },
  {
   "cell_type": "markdown",
   "id": "96e37bb1",
   "metadata": {},
   "source": [
    "## Breaking down the papers\n",
    "\n",
    "### How many papers presented numerical data?\n",
    "\n",
    "I.e. wasn't e.g. a review paper or a pure theory paper"
   ]
  },
  {
   "cell_type": "code",
   "execution_count": null,
   "id": "8f3c64c4",
   "metadata": {},
   "outputs": [],
   "source": [
    "grid = sns.catplot(\n",
    "    x='Is crosslist',\n",
    "    hue='Presents new numerical results?',\n",
    "    kind='count',\n",
    "    data=survey,\n",
    "    order=['hep-lat', 'Crosslist'],\n",
    ").set_titles('{col_name}')\n",
    "\n",
    "annotate_axes_uk(grid, survey)\n",
    "\n",
    "savefig('all_numerical')"
   ]
  },
  {
   "cell_type": "markdown",
   "id": "de2e2cd6",
   "metadata": {},
   "source": [
    "From here on we'll consider papers that present numerical results.\n",
    "\n",
    "## Comparing hep-lat with cross-lists\n",
    "\n",
    "### How many papers specify any of the software they used?"
   ]
  },
  {
   "cell_type": "code",
   "execution_count": null,
   "id": "a660656e",
   "metadata": {},
   "outputs": [],
   "source": [
    "grid = sns.catplot(\n",
    "    x='Is crosslist',\n",
    "    hue='Specifies any software?',\n",
    "    kind='count',\n",
    "    data=numerical,\n",
    "    order=['hep-lat', 'Crosslist'],\n",
    ").set_titles('{col_name}')\n",
    "\n",
    "annotate_axes_uk(grid, numerical)\n",
    "\n",
    "savefig('specifies_any_software')"
   ]
  },
  {
   "cell_type": "markdown",
   "id": "12acdb36",
   "metadata": {},
   "source": [
    "While hep-lat cites software more frequently than cross-lists, more than half of papers still do not cite or otherwise acknowledge any software. Papers including UK authors tend to be more consciencious about specifying software than non-UK in both cases."
   ]
  },
  {
   "cell_type": "markdown",
   "id": "7cb0cf79",
   "metadata": {},
   "source": [
    "### How do papers specify the software that they use?"
   ]
  },
  {
   "cell_type": "code",
   "execution_count": null,
   "id": "b7d45d21",
   "metadata": {},
   "outputs": [],
   "source": [
    "numerical_allsoftware = numerical.melt(\n",
    "    id_vars=['Is crosslist', 'Author Origin'],\n",
    "    value_vars=['Specifies software used for analysis',\n",
    "                'Specifies software used for configuration generation',\n",
    "                'Specifies software used for measurement']\n",
    ")\n",
    "numerical_allsoftwarecites = (\n",
    "    numerical_allsoftware[~numerical_allsoftware['value'].isin([np.nan, 'No'])]\n",
    "    .rename(columns={'value': 'Specifies software via'})\n",
    ")\n",
    "\n",
    "grid = sns.catplot(\n",
    "    x='Is crosslist',\n",
    "    hue='Specifies software via',\n",
    "    kind='count',\n",
    "    data=numerical_allsoftwarecites,\n",
    "    order=['hep-lat', 'Crosslist'],\n",
    ").set_titles('{col_name}')\n",
    "\n",
    "annotate_axes_uk(grid, numerical_allsoftwarecites)\n",
    "\n",
    "savefig('how_specifies_any_software')"
   ]
  },
  {
   "cell_type": "markdown",
   "id": "3c8c8e94",
   "metadata": {},
   "source": [
    "Both in the UK and elsewhere, hep-lat publications are much more likely than crosslists to cite papers describing software rather than directly citing software as its own research output."
   ]
  },
  {
   "cell_type": "markdown",
   "id": "631c10d3",
   "metadata": {},
   "source": [
    "### And where does this software live?"
   ]
  },
  {
   "cell_type": "code",
   "execution_count": null,
   "id": "ee2330c5",
   "metadata": {},
   "outputs": [],
   "source": [
    "cfg_repos, _ = get_codes(survey['Repository/hosting service for configuration generation code'])\n",
    "meas_repos, _ = get_codes(survey['Repository/hosting service for measurement code'])\n",
    "anal_repos, _ = get_codes(survey['Repository/hosting service for analysis code'])\n",
    "                \n",
    "plt.bar(*zip(*list(Counter(cfg_repos + meas_repos + anal_repos).most_common())[:10]))\n",
    "plt.ylabel('count')\n",
    "plt.xticks(rotation=45, ha='right')\n",
    "plt.ylim(0, 13)\n",
    "\n",
    "annotate_axes(plt.gca(), 'all submissions', offset=0.05)\n",
    "\n",
    "plt.tight_layout(rect=(0, 0, 1, 1))\n",
    "savefig('all_software_locations')\n",
    "plt.show()"
   ]
  },
  {
   "cell_type": "markdown",
   "id": "7373d493",
   "metadata": {},
   "source": [
    "GitHub is the most popular, but repositories like Zenodo and Unibi also feature."
   ]
  },
  {
   "cell_type": "markdown",
   "id": "4317e968",
   "metadata": {},
   "source": [
    "## Configuration generation\n",
    "\n",
    "Focusing now on numerical hep-lat papers.\n",
    "\n",
    "### How many papers generate their own field configurations?"
   ]
  },
  {
   "cell_type": "code",
   "execution_count": null,
   "id": "3865b7af",
   "metadata": {},
   "outputs": [],
   "source": [
    "tfplot('Generates field configurations?')\n",
    "savefig('generates_configurations')"
   ]
  },
  {
   "cell_type": "markdown",
   "id": "2add709c",
   "metadata": {},
   "source": [
    "The majority of papers do not generate new gauge configurations.\n",
    "\n",
    "Focusing on those that do,"
   ]
  },
  {
   "cell_type": "markdown",
   "id": "8990dd96",
   "metadata": {},
   "source": [
    "### How many specify what software was used?"
   ]
  },
  {
   "cell_type": "code",
   "execution_count": null,
   "id": "cfc417f7",
   "metadata": {},
   "outputs": [],
   "source": [
    "grid = sns.catplot(\n",
    "    x='Specifies software used for configuration generation?',\n",
    "    kind='count',\n",
    "    data=lattice_generators,\n",
    ").set_titles('{col_name}')\n",
    "annotate_axes(grid.axes, [len(lattice_generators)])\n",
    "savefig('specifies_configuration_generation_software')"
   ]
  },
  {
   "cell_type": "markdown",
   "id": "38d56cc8",
   "metadata": {},
   "source": [
    "### Top ten codes used to generate gauge configurations"
   ]
  },
  {
   "cell_type": "code",
   "execution_count": null,
   "id": "c297dd06",
   "metadata": {},
   "outputs": [],
   "source": [
    "mc_codes, mc_modified = get_codes(survey['Software used for configuration generation'])\n",
    "                \n",
    "plt.bar(*zip(*list(Counter(mc_codes).most_common())[:10]))\n",
    "plt.ylabel('count')\n",
    "plt.xticks(rotation=45, ha='right')\n",
    "annotate_axes(plt.gca(), survey['Specifies software used for configuration generation?'].sum(), offset=0.04)\n",
    "print(mc_modified, 'of these indicate unreleased modifications')\n",
    "plt.tight_layout(rect=(0, 0, 1, 1))\n",
    "savefig('configuration_generation_software')"
   ]
  },
  {
   "cell_type": "markdown",
   "id": "aad63cf2",
   "metadata": {},
   "source": [
    "In fact the number of unreleased modifications will be higher - e.g. Chroma and Grid rely on additional code that groups do not release."
   ]
  },
  {
   "cell_type": "markdown",
   "id": "ae3a3cdc",
   "metadata": {},
   "source": [
    "## Configuration origins\n",
    "\n",
    "More than half of papers aren't generation configurations—where are they getting them?\n",
    "\n",
    "### How many papers use pre-existing field configurations?"
   ]
  },
  {
   "cell_type": "code",
   "execution_count": null,
   "id": "ec28ea64",
   "metadata": {},
   "outputs": [],
   "source": [
    "tfplot('Uses existing configurations?')\n",
    "savefig('uses_existing_configurations')"
   ]
  },
  {
   "cell_type": "markdown",
   "id": "29bd5bdb",
   "metadata": {},
   "source": [
    "Papers with UK authors are somewhat more likely to use existing configurations than entirely non-UK works."
   ]
  },
  {
   "cell_type": "markdown",
   "id": "537a7c7b",
   "metadata": {},
   "source": [
    "## How do papers specify the ensembles they use?"
   ]
  },
  {
   "cell_type": "code",
   "execution_count": null,
   "id": "bded139c",
   "metadata": {},
   "outputs": [],
   "source": [
    "grid = sns.catplot(\n",
    "    x='Cites existing configurations',\n",
    "    kind='count',\n",
    "    data=lattice_numerical[lattice_numerical['Uses existing configurations?']],\n",
    ").set_titles('{col_name}')\n",
    "annotate_axes_uk(grid, lattice_numerical[lattice_numerical['Uses existing configurations?']])\n",
    "savefig('how_specify_ensembles')"
   ]
  },
  {
   "cell_type": "markdown",
   "id": "40a1a4cd",
   "metadata": {},
   "source": [
    "The vast majority reference a paper. One doesn't acknowledge or reference the original ensemble at all, instead citing a previous work of the authors that used the ensemble."
   ]
  },
  {
   "cell_type": "markdown",
   "id": "351c8627",
   "metadata": {},
   "source": [
    "### Is a lattice configuration sharing service cited?\n",
    "\n",
    "ILDG and its deployments (Regional Grids) are a FAIR way of sharing configuration data—how recognised are they?"
   ]
  },
  {
   "cell_type": "code",
   "execution_count": null,
   "id": "4d93d527",
   "metadata": {},
   "outputs": [],
   "source": [
    "grid = tfplot('Configuration hosting infrastructure acknowledged?', annotate=False)\n",
    "annotate_axes(grid.axes[0][-1], lattice_numerical['Uses existing configurations?'].sum())\n",
    "\n",
    "savefig('acknowledges_cfg_hosting_infrastructure')"
   ]
  },
  {
   "cell_type": "markdown",
   "id": "49c1387f",
   "metadata": {},
   "source": [
    "If ILDG infrastructure is used, it is not commonly acknowledged. Which specific instances are referred to?"
   ]
  },
  {
   "cell_type": "markdown",
   "id": "aca17587",
   "metadata": {},
   "source": [
    "### What configuration hosting infrastructure is acknowledged?"
   ]
  },
  {
   "cell_type": "code",
   "execution_count": null,
   "id": "859e9521",
   "metadata": {},
   "outputs": [],
   "source": [
    "grids, _ = get_codes(survey['Configuration hosting infrastructure acknowledged'])\n",
    "                \n",
    "plt.bar(*zip(*list(Counter(grids).most_common())[:10]))\n",
    "plt.ylabel('count')\n",
    "annotate_axes(plt.gca(), lattice_numerical['Configuration hosting infrastructure acknowledged?'].sum(), offset=0.02)\n",
    "retick(plt.gca())\n",
    "plt.tight_layout(rect=(0, 0, 1, 1))\n",
    "savefig('which_cfg_hosting_infrastructure')\n",
    "plt.show()"
   ]
  },
  {
   "cell_type": "markdown",
   "id": "2812e7ec",
   "metadata": {},
   "source": [
    "Not shown here is that all acknowledgements to ILDG also acknowledge JLDG. Either JLDG is the only LDG in common use, or its users are particularly consciencious about acknowledgement."
   ]
  },
  {
   "cell_type": "markdown",
   "id": "d9b50be6",
   "metadata": {},
   "source": [
    "### Which collaborations are generating the configurations being used?"
   ]
  },
  {
   "cell_type": "code",
   "execution_count": null,
   "id": "9fc76368",
   "metadata": {},
   "outputs": [],
   "source": [
    "collaborations, _ = get_codes(survey['Configurations generated by'])\n",
    "                \n",
    "plt.bar(*zip(*list(Counter(collaborations).most_common())[:10]))\n",
    "plt.xticks(rotation=45, ha='right')\n",
    "plt.ylabel('count')\n",
    "annotate_axes(plt.gca(), survey['Uses existing configurations?'].sum(), offset=0.05)\n",
    "plt.tight_layout(rect=(0, 0, 1, 1))\n",
    "savefig('used_configuration_generating_collaborations')\n",
    "plt.show()"
   ]
  },
  {
   "cell_type": "markdown",
   "id": "9217f0b5",
   "metadata": {},
   "source": [
    "## Measurements\n",
    "\n",
    "### What proportion of numerical papers in hep-lat perform measurements on field configurations?"
   ]
  },
  {
   "cell_type": "code",
   "execution_count": null,
   "id": "30a371a9",
   "metadata": {},
   "outputs": [],
   "source": [
    "tfplot('Performs measurements?', offset=-0.03)\n",
    "savefig('performs_measurements')"
   ]
  },
  {
   "cell_type": "markdown",
   "id": "7ba9d7a1",
   "metadata": {},
   "source": [
    "Around 80%—the remaining 20% include things like tensor networks and quantum simulations."
   ]
  },
  {
   "cell_type": "markdown",
   "id": "b3566b19",
   "metadata": {},
   "source": [
    "### And how many of these specify what software they use?"
   ]
  },
  {
   "cell_type": "code",
   "execution_count": null,
   "id": "24883794",
   "metadata": {},
   "outputs": [],
   "source": [
    "grid = sns.catplot(\n",
    "    x='Specifies software used for measurement?',\n",
    "    kind='count',\n",
    "    data=lattice_measurers\n",
    ").set_titles('{col_name}')\n",
    "annotate_axes(grid.axes, [len(lattice_measurers)])\n",
    "savefig('specifies_measurement_software')"
   ]
  },
  {
   "cell_type": "markdown",
   "id": "bba0f256",
   "metadata": {},
   "source": [
    "### What codes are used for measurement?"
   ]
  },
  {
   "cell_type": "code",
   "execution_count": null,
   "id": "741bd22d",
   "metadata": {},
   "outputs": [],
   "source": [
    "meas_codes, meas_modified = get_codes(survey['Software used for measurements'])\n",
    "                \n",
    "plt.bar(*zip(*list(Counter(meas_codes).most_common())[:10]))\n",
    "plt.xticks(rotation=45, ha='right')\n",
    "annotate_axes(plt.gca(), lattice_measurers['Specifies software used for measurement?'].sum(), offset=0.04)\n",
    "plt.tight_layout(rect=(0, 0, 1, 1))\n",
    "savefig('measurement_software')\n",
    "plt.show()\n",
    "\n",
    "print(meas_modified, 'of these indicate unreleased modifications')"
   ]
  },
  {
   "cell_type": "markdown",
   "id": "893790da",
   "metadata": {},
   "source": [
    "As before, the real number of unreleased modifications will be higher."
   ]
  },
  {
   "cell_type": "markdown",
   "id": "7abba73a",
   "metadata": {},
   "source": [
    "## Other data sources\n",
    "\n",
    "Configurations aren't the only data that research can use as input.\n",
    "\n",
    "### What proportion of papers mention a source of data other than field configurations?"
   ]
  },
  {
   "cell_type": "code",
   "execution_count": null,
   "id": "324ff0bd",
   "metadata": {},
   "outputs": [],
   "source": [
    "grid = sns.catplot(\n",
    "    x='Is crosslist',\n",
    "    hue='Reanalyses other existing data?',\n",
    "    kind='count',\n",
    "    data=survey,\n",
    "    order=['hep-lat', 'Crosslist'],\n",
    ").set_titles('{col_name}')\n",
    "annotate_axes_uk(grid, survey)\n",
    "savefig('use_other_data')"
   ]
  },
  {
   "cell_type": "markdown",
   "id": "efeae46e",
   "metadata": {},
   "source": [
    "Crosslists use proportionally more non-configuration data than hep-lat papers. Anecdotally, this is likely because of the high number of phenomenological and adjacent papers that use final values from e.g. lattice publications as their inputs."
   ]
  },
  {
   "cell_type": "markdown",
   "id": "11566825",
   "metadata": {},
   "source": [
    "### How are non-configuration data acknowledged?"
   ]
  },
  {
   "cell_type": "code",
   "execution_count": null,
   "id": "5fd53daf",
   "metadata": {},
   "outputs": [],
   "source": [
    "grid = sns.catplot(\n",
    "    x='Is crosslist',\n",
    "    hue='Cites other existing data',\n",
    "    kind='count',\n",
    "    data=numerical,\n",
    "    order=['hep-lat', 'Crosslist'],\n",
    ").set_titles('{col_name}')\n",
    "annotate_axes_uk(grid, numerical[numerical['Reanalyses other existing data?']])\n",
    "savefig('how_acknowledges_other_data')"
   ]
  },
  {
   "cell_type": "markdown",
   "id": "e70c96ff",
   "metadata": {},
   "source": [
    "The vast majority of data are cited via publication. This doesn't necessarily mean that data are always being transcribed from PDFs to be re-used in these cases: anecdotally, a noticeable number of papers include acknowledgements to individual members of other collaborations for providing (presumably raw) data. However, this is not the majority, and even in such cases it is not clear what form the data took, or how it could be available to other researchers."
   ]
  },
  {
   "cell_type": "markdown",
   "id": "a35f72a9",
   "metadata": {},
   "source": [
    "## Publishing data\n",
    "\n",
    "From consuming data to making it available.\n",
    "\n",
    "### Do papers producing numerical results make their data available?\n",
    "\n",
    "That is, are data provided in a form other than the numbers, plots, or tables presented in the LaTeX/PDF, suitable for others to make use of directly within their own code?"
   ]
  },
  {
   "cell_type": "code",
   "execution_count": null,
   "id": "4d373f4f",
   "metadata": {},
   "outputs": [],
   "source": [
    "grid = sns.catplot(\n",
    "    x='Is crosslist',\n",
    "    hue='Data published',\n",
    "    kind='count',\n",
    "    data=numerical,\n",
    "    order=['hep-lat', 'Crosslist'],\n",
    ").set_titles('{col_name}')\n",
    "annotate_axes_uk(grid, numerical)\n",
    "savefig('publish_any_data')"
   ]
  },
  {
   "cell_type": "markdown",
   "id": "3e7dec15",
   "metadata": {},
   "source": [
    "Largely, no. However, the trend of using \"data are available on request\" as a get-out clause has not caught on in lattice."
   ]
  },
  {
   "cell_type": "markdown",
   "id": "5cd6a283",
   "metadata": {},
   "source": [
    "### Where are data published?"
   ]
  },
  {
   "cell_type": "code",
   "execution_count": null,
   "id": "4a147a9d",
   "metadata": {},
   "outputs": [],
   "source": [
    "data_repositories, _ = get_codes(survey['Repository used for data'])\n",
    "                \n",
    "plt.bar(*zip(*list(Counter(data_repositories).most_common())[:10]))\n",
    "plt.xticks(rotation=45, ha='right')\n",
    "plt.ylabel('count')\n",
    "annotate_axes(plt.gca(), (numerical['Data published'] != 'None').sum(), offset=0.07)\n",
    "retick(plt.gca())\n",
    "plt.tight_layout(rect=(0, 0, 1, 1))\n",
    "savefig('used_data_repositories')\n",
    "plt.show()"
   ]
  },
  {
   "cell_type": "markdown",
   "id": "8722642a",
   "metadata": {},
   "source": [
    "GitLab overtakes GitHub for data storage, and outperforms dedicated data repositories such as Zenodo. However, all are beaten by the arXiv itself, either as extra files hidden in the source bundle, or as ancillary files that are linked from the abstract page."
   ]
  },
  {
   "cell_type": "markdown",
   "id": "610268c6",
   "metadata": {},
   "source": [
    "## Data analysis\n",
    "\n",
    "Now data are produced (and sometimes published), how are they analysed to give the final results included in publications?\n",
    "\n",
    "### Do publications specify what software has been used for analysis of data?\n",
    "\n",
    "This is what many disciplines would call the \"reproducibility question\"—when data are collected experimentally, then this may be the only computational step."
   ]
  },
  {
   "cell_type": "code",
   "execution_count": null,
   "id": "afc79dad",
   "metadata": {},
   "outputs": [],
   "source": [
    "grid = sns.catplot(\n",
    "    x='Is crosslist',\n",
    "    hue='Specifies software used for analysis?',\n",
    "    kind='count',\n",
    "    data=numerical,\n",
    "    order=['hep-lat', 'Crosslist'],\n",
    ").set_titles('{col_name}')\n",
    "annotate_axes_uk(grid, numerical)\n",
    "savefig('specifies_analysis_software')"
   ]
  },
  {
   "cell_type": "markdown",
   "id": "53c4746f",
   "metadata": {},
   "source": [
    "Caveat: hep-lat and crosslists aren't necessarily precisely comparable here, as lattice papers capture software for specific parts of the work, whereas any software used at all in non-lattice work will be captured. However, the low proportion specifying any of the software used for analysis is itself striking!"
   ]
  },
  {
   "cell_type": "markdown",
   "id": "aab4bbd9",
   "metadata": {},
   "source": [
    "### What software is acknowledged for data analysis?"
   ]
  },
  {
   "cell_type": "code",
   "execution_count": null,
   "id": "fc9e2e7a",
   "metadata": {},
   "outputs": [],
   "source": [
    "lattice_anal_codes, _ = get_codes(lattice_numerical['Software used for analysis'])\n",
    "nonlattice_anal_codes, _ = get_codes(nonlattice_numerical['Software used for analysis'])\n",
    "\n",
    "fig, axes = plt.subplots(ncols=2, sharey=True, figsize=(12, 5))\n",
    "\n",
    "axes[0].set_title('hep-lat')\n",
    "axes[0].bar(*zip(*list(Counter(lattice_anal_codes).most_common())[:10]))\n",
    "axes[0].set_ylabel('count')\n",
    "axes[0].set_ylabel('count')\n",
    "\n",
    "axes[1].set_title('Crosslist')\n",
    "axes[1].bar(*zip(*list(Counter(nonlattice_anal_codes).most_common())[:10]))\n",
    "\n",
    "for ax in axes:\n",
    "    for ticklabel in ax.get_xticklabels():\n",
    "        ticklabel.set_rotation(45)\n",
    "        ticklabel.set_ha('right')\n",
    "        \n",
    "fig.tight_layout()\n",
    "annotate_axes([axes],\n",
    "              [lattice_numerical['Software used for analysis'].count(),\n",
    "               nonlattice_numerical['Software used for analysis'].count()],\n",
    "              offset=0.04)\n",
    "savefig('acknowledged_analysis_software')\n",
    "plt.show()"
   ]
  },
  {
   "cell_type": "markdown",
   "id": "bdc7de72",
   "metadata": {},
   "source": [
    "Python and Mathematica are the languages of choice in both cases. However, it's not clear if that's because Mathematica and Python users are particularly consciencious about acknowledging their software, or if it represents a wider preference for these languages."
   ]
  },
  {
   "cell_type": "markdown",
   "id": "b8bec667",
   "metadata": {},
   "source": [
    "### How is data analysis software cited?"
   ]
  },
  {
   "cell_type": "code",
   "execution_count": null,
   "id": "49d42895",
   "metadata": {},
   "outputs": [],
   "source": [
    "numerical_analsoftwarecites = numerical[~numerical['Specifies software used for analysis'].isin([np.nan, 'No'])]\n",
    "\n",
    "grid = sns.catplot(\n",
    "    x='Is crosslist',\n",
    "    hue='Specifies software used for analysis',\n",
    "    kind='count',\n",
    "    data=numerical_analsoftwarecites,\n",
    "    order=['hep-lat', 'Crosslist'],\n",
    ").set_titles('{col_name}')\n",
    "annotate_axes_uk(grid, numerical_analsoftwarecites)\n",
    "savefig('how_analysis_software_cited')"
   ]
  },
  {
   "cell_type": "markdown",
   "id": "a589434d",
   "metadata": {},
   "source": [
    "hep-lat is less likely to name-drop software for data analysis without a citation, and in the UK is also more likely to cite a data repository."
   ]
  },
  {
   "cell_type": "markdown",
   "id": "f74d1319",
   "metadata": {},
   "source": [
    "### How many numerical papers acknowledge HPC resources?\n",
    "\n",
    "Acknowledging HPC resources is similarly challenging to acknowledging software resources. In principle, both are requested as a condition of use, too."
   ]
  },
  {
   "cell_type": "code",
   "execution_count": null,
   "id": "de9f8b88",
   "metadata": {},
   "outputs": [],
   "source": [
    "grid = sns.catplot(\n",
    "    x='Is crosslist',\n",
    "    hue='Acknowledges an HPC centre?',\n",
    "    kind='count',\n",
    "    data=numerical,\n",
    "    order=['hep-lat', 'Crosslist'],\n",
    ").set_titles('{col_name}')\n",
    "annotate_axes_uk(grid, numerical)\n",
    "savefig('acknowledges_compute_resources')"
   ]
  },
  {
   "cell_type": "markdown",
   "id": "bb3d43d2",
   "metadata": {},
   "source": [
    "The majority of numerical hep-lat papers (and the overwhelming majority in the UK) acknowledge computing resources. How can that be extended to software resources?"
   ]
  },
  {
   "cell_type": "markdown",
   "id": "c9ac119e",
   "metadata": {},
   "source": [
    "### Do papers acknowledge DiRAC or Supercomputing Wales?\n",
    "\n",
    "(This question is quite UK-specific.)"
   ]
  },
  {
   "cell_type": "code",
   "execution_count": null,
   "id": "78f5d008",
   "metadata": {},
   "outputs": [],
   "source": [
    "lattice_numerical[lattice_numerical['UK authors?']].loc[\n",
    "    :, ['Acknowledges an HPC centre?', 'Acknowledges DiRAC', 'Acknowledges Supercomputing Wales']\n",
    "].sum().plot.bar()\n",
    "plt.xticks(rotation=45, ha='right')\n",
    "plt.ylabel('count')\n",
    "annotate_axes(plt.gca(), lattice_numerical['UK authors?'].sum(), offset=0.02)\n",
    "plt.tight_layout(rect=(0, 0, 1, 1))\n",
    "savefig('dirac_scw')"
   ]
  },
  {
   "cell_type": "markdown",
   "id": "b2f1790d",
   "metadata": {},
   "source": [
    "Almost half as many paper acknowledge one local/regional HPC centre as acknowledge the national HPC service; demonstrating the need for an ecosystem of services at various degrees of power and locality."
   ]
  },
  {
   "cell_type": "markdown",
   "id": "4574aa34",
   "metadata": {},
   "source": [
    "### How many numerical papers publish their analysis workflow?\n",
    "\n",
    "Specifying the software used for the analysis is only part of the story—all of the top software above are languages and libraries that must be incorporated into code to give answers. "
   ]
  },
  {
   "cell_type": "code",
   "execution_count": null,
   "id": "4a25bb3e",
   "metadata": {},
   "outputs": [],
   "source": [
    "g = sns.catplot(\n",
    "    x='Is crosslist',\n",
    "    hue='Analysis published',\n",
    "    kind='count',\n",
    "    data=numerical,\n",
    "    order=['hep-lat', 'Crosslist'],\n",
    ").set_titles('{col_name}')\n",
    "\n",
    "for ax in g.axes.flat:\n",
    "    for container in ax.containers:\n",
    "        ax.bar_label(container)\n",
    "\n",
    "annotate_axes_uk(g, numerical)\n",
    "savefig('publish_analysis_workflow')"
   ]
  },
  {
   "cell_type": "markdown",
   "id": "8db5ebca",
   "metadata": {},
   "source": [
    "The number publishing the full analysis is too small to do statistics on, and the number publishing even part of the analysis isn't much better. The vast majority of publications rely solely on the text description of their analysis to convey what was done."
   ]
  }
 ],
 "metadata": {
  "kernelspec": {
   "display_name": "repropubsurvey",
   "language": "python",
   "name": "repropubsurvey"
  },
  "language_info": {
   "codemirror_mode": {
    "name": "ipython",
    "version": 3
   },
   "file_extension": ".py",
   "mimetype": "text/x-python",
   "name": "python",
   "nbconvert_exporter": "python",
   "pygments_lexer": "ipython3",
   "version": "3.10.4"
  }
 },
 "nbformat": 4,
 "nbformat_minor": 5
}
